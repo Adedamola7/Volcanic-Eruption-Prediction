{
 "cells": [
  {
   "cell_type": "markdown",
   "id": "eb0b75ca-d31c-41dc-b108-6bb89d016ea4",
   "metadata": {},
   "source": [
    "### Import of Modules"
   ]
  },
  {
   "cell_type": "code",
   "execution_count": 1,
   "id": "627f12ba-6c4e-41ef-a9ec-f67d1e0955f5",
   "metadata": {},
   "outputs": [],
   "source": [
    "import pandas as pd # Data analysis and manipulation\n",
    "import os # Interacting with OS"
   ]
  },
  {
   "cell_type": "code",
   "execution_count": 2,
   "id": "acd847e8-5310-4eb2-8f6d-be899b64f34f",
   "metadata": {},
   "outputs": [],
   "source": [
    "# Path to folder containing the datasets\n",
    "folder_path = r\"C:\\Users\\HP\\Documents\\Volcanoe\\USA Datasets\""
   ]
  },
  {
   "cell_type": "code",
   "execution_count": 3,
   "id": "5d9684b3-87df-49ff-a1a9-cdd0fc7f0178",
   "metadata": {},
   "outputs": [],
   "source": [
    "# Kilauea Volcano bounding box \n",
    "min_lat, max_lat = 19.3, 19.6\n",
    "min_lon, max_lon = -155.5, -155.2"
   ]
  },
  {
   "cell_type": "code",
   "execution_count": 4,
   "id": "b07af729-13e8-4770-b040-fa986701d373",
   "metadata": {},
   "outputs": [],
   "source": [
    "# Empty list to hold filtered DataFrames\n",
    "all_data = []"
   ]
  },
  {
   "cell_type": "code",
   "execution_count": 6,
   "id": "b5036e6a-c49f-40fb-8337-2e4960ea58a0",
   "metadata": {},
   "outputs": [],
   "source": [
    "# Loop through all CSV files\n",
    "for file in os.listdir(folder_path):\n",
    "    if file.endswith(\".csv\"):\n",
    "        file_path = os.path.join(folder_path, file)\n",
    "        \n",
    "        # Extract year from file name\n",
    "        year = file.split(\"_\")[1]\n",
    "        \n",
    "        # Read the file\n",
    "        df = pd.read_csv(file_path)\n",
    "        \n",
    "        if 'latitude' in df.columns and 'longitude' in df.columns:\n",
    "            # Filter for Kilauea bounding box\n",
    "            kilauea_df = df[\n",
    "                (df['latitude'] >= min_lat) & (df['latitude'] <= max_lat) &\n",
    "                (df['longitude'] >= min_lon) & (df['longitude'] <= max_lon)\n",
    "            ].copy()\n",
    "            \n",
    "            # Add year column\n",
    "            kilauea_df['year'] = int(year)\n",
    "            \n",
    "            # Append to list\n",
    "            all_data.append(kilauea_df)"
   ]
  },
  {
   "cell_type": "code",
   "execution_count": 7,
   "id": "cd70c0ef-eb70-40d5-8a36-9d28f407da86",
   "metadata": {},
   "outputs": [],
   "source": [
    "# Combine all years into one DataFrame\n",
    "final_df = pd.concat(all_data, ignore_index=True)"
   ]
  },
  {
   "cell_type": "code",
   "execution_count": 8,
   "id": "9143bd96-f64b-46da-b776-b3c992864cf8",
   "metadata": {},
   "outputs": [
    {
     "name": "stdout",
     "output_type": "stream",
     "text": [
      "Filtered data saved to: C:\\Users\\HP\\Documents\\Volcanoe\\USA Datasets\\Kilauea_Volcanoe_2000_2024_Data.csv\n"
     ]
    }
   ],
   "source": [
    "# Save to CSV\n",
    "output_path = os.path.join(folder_path, \"Kilauea_Volcanoe_2000_2024_Data.csv\")\n",
    "final_df.to_csv(output_path, index=False)\n",
    "\n",
    "print(f\"Filtered data saved to: {output_path}\")"
   ]
  }
 ],
 "metadata": {
  "kernelspec": {
   "display_name": "Python 3 (ipykernel)",
   "language": "python",
   "name": "python3"
  },
  "language_info": {
   "codemirror_mode": {
    "name": "ipython",
    "version": 3
   },
   "file_extension": ".py",
   "mimetype": "text/x-python",
   "name": "python",
   "nbconvert_exporter": "python",
   "pygments_lexer": "ipython3",
   "version": "3.11.7"
  }
 },
 "nbformat": 4,
 "nbformat_minor": 5
}
